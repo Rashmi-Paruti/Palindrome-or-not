{
 "cells": [
  {
   "cell_type": "markdown",
   "metadata": {},
   "source": [
    "# Develop a Python program to check whether a given number is palindrome or not and also count the number of occurrences of each digit in the input number. "
   ]
  },
  {
   "cell_type": "markdown",
   "metadata": {},
   "source": [
    "type 1"
   ]
  },
  {
   "cell_type": "code",
   "execution_count": 25,
   "metadata": {},
   "outputs": [
    {
     "name": "stdout",
     "output_type": "stream",
     "text": [
      "Enter :12321\n",
      "The number is palindrome!\n"
     ]
    }
   ],
   "source": [
    "n=int(input(\"Enter :\"))\n",
    "temp=n\n",
    "rev=0\n",
    "while(n>0):\n",
    "    dig=n%10\n",
    "    rev=rev*10+dig\n",
    "    n=n//10\n",
    "if(temp==rev):\n",
    "    print(\"The number is palindrome!\")\n",
    "else:\n",
    "    print(\"Not a palindrome!\")"
   ]
  },
  {
   "cell_type": "code",
   "execution_count": null,
   "metadata": {},
   "outputs": [],
   "source": []
  },
  {
   "cell_type": "code",
   "execution_count": null,
   "metadata": {},
   "outputs": [],
   "source": []
  },
  {
   "cell_type": "markdown",
   "metadata": {},
   "source": [
    "type 2"
   ]
  },
  {
   "cell_type": "code",
   "execution_count": 28,
   "metadata": {},
   "outputs": [
    {
     "name": "stdout",
     "output_type": "stream",
     "text": [
      "Enter :12321\n",
      "The number is palindrome!\n"
     ]
    }
   ],
   "source": [
    "n=input((\"Enter :\"))  \n",
    "if(n==n[::-1]):  \n",
    "      print(\"The number is palindrome!\")  \n",
    "else:  \n",
    "      print(\"The number is palindrome!\")  "
   ]
  },
  {
   "cell_type": "code",
   "execution_count": 29,
   "metadata": {},
   "outputs": [
    {
     "name": "stdout",
     "output_type": "stream",
     "text": [
      "Enter the digit to check its occurence: 2\n",
      "Digit count is:  2\n"
     ]
    }
   ],
   "source": [
    "#number of occurrences of each digit\n",
    "x = str(input(\"Enter the digit to check its occurence: \"))\n",
    "print(\"Digit count is: \",n.count(x))"
   ]
  },
  {
   "cell_type": "code",
   "execution_count": null,
   "metadata": {},
   "outputs": [],
   "source": []
  }
 ],
 "metadata": {
  "kernelspec": {
   "display_name": "Python 3",
   "language": "python",
   "name": "python3"
  },
  "language_info": {
   "codemirror_mode": {
    "name": "ipython",
    "version": 3
   },
   "file_extension": ".py",
   "mimetype": "text/x-python",
   "name": "python",
   "nbconvert_exporter": "python",
   "pygments_lexer": "ipython3",
   "version": "3.7.4"
  }
 },
 "nbformat": 4,
 "nbformat_minor": 2
}
